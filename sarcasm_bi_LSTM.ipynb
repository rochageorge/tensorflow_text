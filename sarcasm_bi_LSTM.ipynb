{
  "nbformat": 4,
  "nbformat_minor": 0,
  "metadata": {
    "accelerator": "GPU",
    "colab": {
      "name": "C3_W3_Lab_5_sarcasm_with_bi_LSTM.ipynb",
      "provenance": [],
      "collapsed_sections": []
    },
    "kernelspec": {
      "name": "python3",
      "display_name": "Python 3"
    },
    "language_info": {
      "name": "python"
    }
  },
  "cells": [
    {
      "cell_type": "code",
      "source": [
        "import numpy as np\n",
        "\n",
        "import csv\n",
        "\n",
        "import random\n",
        "\n",
        "import matplotlib.pyplot as plt\n",
        "\n",
        "import json\n",
        "\n",
        "import tensorflow as tf\n",
        "from tensorflow.keras.preprocessing.text import Tokenizer\n",
        "from tensorflow.keras.preprocessing.sequence import pad_sequences\n"
      ],
      "metadata": {
        "id": "9_0NlC0l6DFw"
      },
      "execution_count": 60,
      "outputs": []
    },
    {
      "cell_type": "code",
      "source": [
        "# data path\n",
        "# https://drive.google.com/uc?id=1wd8KaeCSHxt-nEpMeuHFSNWrDp8joUXJ"
      ],
      "metadata": {
        "id": "BenTN9HN6HPi"
      },
      "execution_count": 49,
      "outputs": []
    },
    {
      "cell_type": "code",
      "source": [
        "# varibles for easy tuning\n",
        "\n",
        "file_path = \"./training_cleaned.csv\"\n",
        "\n",
        "vocab_size = 1000\n",
        "embedding_dim = 16\n",
        "max_length = 120\n",
        "trunc_type='post'\n",
        "padding_type='post'\n",
        "oov_tok = \"<OOV>\"\n",
        "training_size = 20000\n",
        "\n",
        "num_epochs = 30\n"
      ],
      "metadata": {
        "id": "CTib34m06JnO"
      },
      "execution_count": 50,
      "outputs": []
    },
    {
      "cell_type": "code",
      "source": [
        "corpus = []\n",
        "num_sentences = 0\n",
        "\n",
        "# fetching and spliting the data between sentences and labels\n",
        "with open(file_path) as csvfile:\n",
        "    reader = csv.reader(csvfile, delimiter=',')\n",
        "    for row in reader:\n",
        "        list_item=[]\n",
        "        \n",
        "        list_item.append(row[5])\n",
        "        this_label=row[0]\n",
        "        if this_label=='0':\n",
        "            list_item.append(0)\n",
        "        else:\n",
        "            list_item.append(1)\n",
        "        \n",
        "        num_sentences = num_sentences + 1\n",
        "        corpus.append(list_item)\n",
        "\n",
        "sentences=[]\n",
        "labels=[]\n",
        "\n",
        "# reducing overfiting\n",
        "random.shuffle(corpus)\n",
        "\n",
        "for x in range(training_size):\n",
        "    sentences.append(corpus[x][0])\n",
        "    labels.append(corpus[x][1])"
      ],
      "metadata": {
        "id": "kdZqKr6_6ewp"
      },
      "execution_count": 51,
      "outputs": []
    },
    {
      "cell_type": "code",
      "source": [
        "# spliting data\n",
        "training_sentences = sentences[0:training_size]\n",
        "testing_sentences = sentences[training_size:]\n",
        "\n",
        "training_labels = labels[0:training_size]\n",
        "testing_labels = labels[training_size:]\n",
        "\n",
        "#creating the dictionaire\n",
        "tokenizer = Tokenizer(num_words=vocab_size, \n",
        "                      oov_token=oov_tok\n",
        ")\n",
        "tokenizer.fit_on_texts(training_sentences)\n",
        "\n",
        "# text to sequences\n",
        "training_sequences = tokenizer.texts_to_sequences(training_sentences)\n",
        "testing_sequences = tokenizer.texts_to_sequences(testing_sentences)\n",
        "\n",
        "# padding\n",
        "training_padded = pad_sequences(training_sequences, \n",
        "                                maxlen = max_length, \n",
        "                                padding = padding_type, \n",
        "                                truncating = trunc_type\n",
        ")\n",
        "testing_padded = pad_sequences(testing_sequences, \n",
        "                               maxlen = max_length, \n",
        "                               padding = padding_type, \n",
        "                               truncating = trunc_type\n",
        ")\n"
      ],
      "metadata": {
        "id": "2HmXF1h5AUe7"
      },
      "execution_count": 52,
      "outputs": []
    },
    {
      "cell_type": "code",
      "source": [
        "# model creation\n",
        "model = tf.keras.Sequential([\n",
        "    tf.keras.layers.Embedding(\n",
        "        vocab_size, \n",
        "        embedding_dim, \n",
        "        input_length = max_length),\n",
        "    tf.keras.layers.Bidirectional(tf.keras.layers.LSTM(32)),\n",
        "    tf.keras.layers.Dense(24, activation='relu'),\n",
        "    tf.keras.layers.Dense(1, activation='sigmoid')\n",
        "])"
      ],
      "metadata": {
        "id": "xOGY6FJzB7Zt"
      },
      "execution_count": 53,
      "outputs": []
    },
    {
      "cell_type": "code",
      "source": [
        "# model compiling\n",
        "model.compile(\n",
        "    loss='binary_crossentropy',\n",
        "    optimizer='adam',\n",
        "    metrics=['accuracy']\n",
        ")\n",
        "\n",
        "model.summary()"
      ],
      "metadata": {
        "id": "ZvBYulH_B9ba",
        "outputId": "2b6b6976-54b9-40f0-bfe1-444eb9e434b8",
        "colab": {
          "base_uri": "https://localhost:8080/"
        }
      },
      "execution_count": 54,
      "outputs": [
        {
          "output_type": "stream",
          "name": "stdout",
          "text": [
            "Model: \"sequential_2\"\n",
            "_________________________________________________________________\n",
            " Layer (type)                Output Shape              Param #   \n",
            "=================================================================\n",
            " embedding_2 (Embedding)     (None, 120, 16)           16000     \n",
            "                                                                 \n",
            " bidirectional_2 (Bidirectio  (None, 64)               12544     \n",
            " nal)                                                            \n",
            "                                                                 \n",
            " dense_4 (Dense)             (None, 24)                1560      \n",
            "                                                                 \n",
            " dense_5 (Dense)             (None, 1)                 25        \n",
            "                                                                 \n",
            "=================================================================\n",
            "Total params: 30,129\n",
            "Trainable params: 30,129\n",
            "Non-trainable params: 0\n",
            "_________________________________________________________________\n"
          ]
        }
      ]
    },
    {
      "cell_type": "code",
      "source": [
        "# fixing for tensoflow 2.0+\n",
        "training_padded = np.array(training_padded)\n",
        "training_labels = np.array(training_labels)\n",
        "testing_padded = np.array(testing_padded)\n",
        "testing_labels = np.array(testing_labels)"
      ],
      "metadata": {
        "id": "TWoA7KGNCIYg"
      },
      "execution_count": 55,
      "outputs": []
    },
    {
      "cell_type": "code",
      "metadata": {
        "id": "jGwXGIXvFhXW",
        "outputId": "fe8522bb-332f-4c8e-88a5-f22ff0e1dcf8",
        "colab": {
          "base_uri": "https://localhost:8080/"
        }
      },
      "source": [
        "# model fitting\n",
        "history = model.fit(\n",
        "    training_padded, \n",
        "    training_labels, \n",
        "    epochs=num_epochs, \n",
        "    validation_data=(\n",
        "        testing_padded, \n",
        "        testing_labels\n",
        "    ), \n",
        "    verbose=1\n",
        ")"
      ],
      "execution_count": 56,
      "outputs": [
        {
          "output_type": "stream",
          "name": "stdout",
          "text": [
            "Epoch 1/30\n",
            "625/625 [==============================] - 40s 59ms/step - loss: 0.5817 - accuracy: 0.6951\n",
            "Epoch 2/30\n",
            "625/625 [==============================] - 37s 59ms/step - loss: 0.4946 - accuracy: 0.7638\n",
            "Epoch 3/30\n",
            "625/625 [==============================] - 37s 59ms/step - loss: 0.4745 - accuracy: 0.7729\n",
            "Epoch 4/30\n",
            "625/625 [==============================] - 37s 59ms/step - loss: 0.4661 - accuracy: 0.7790\n",
            "Epoch 5/30\n",
            "625/625 [==============================] - 37s 59ms/step - loss: 0.4569 - accuracy: 0.7840\n",
            "Epoch 6/30\n",
            "625/625 [==============================] - 37s 59ms/step - loss: 0.4473 - accuracy: 0.7890\n",
            "Epoch 7/30\n",
            "625/625 [==============================] - 37s 59ms/step - loss: 0.4372 - accuracy: 0.7958\n",
            "Epoch 8/30\n",
            "625/625 [==============================] - 37s 58ms/step - loss: 0.4260 - accuracy: 0.8015\n",
            "Epoch 9/30\n",
            "625/625 [==============================] - 37s 58ms/step - loss: 0.4155 - accuracy: 0.8091\n",
            "Epoch 10/30\n",
            "625/625 [==============================] - 37s 59ms/step - loss: 0.4061 - accuracy: 0.8129\n",
            "Epoch 11/30\n",
            "625/625 [==============================] - 36s 58ms/step - loss: 0.3964 - accuracy: 0.8183\n",
            "Epoch 12/30\n",
            "625/625 [==============================] - 36s 58ms/step - loss: 0.3869 - accuracy: 0.8225\n",
            "Epoch 13/30\n",
            "625/625 [==============================] - 37s 59ms/step - loss: 0.3770 - accuracy: 0.8270\n",
            "Epoch 14/30\n",
            "625/625 [==============================] - 36s 58ms/step - loss: 0.3669 - accuracy: 0.8336\n",
            "Epoch 15/30\n",
            "625/625 [==============================] - 36s 58ms/step - loss: 0.3574 - accuracy: 0.8374\n",
            "Epoch 16/30\n",
            "625/625 [==============================] - 36s 58ms/step - loss: 0.3480 - accuracy: 0.8407\n",
            "Epoch 17/30\n",
            "625/625 [==============================] - 37s 58ms/step - loss: 0.3383 - accuracy: 0.8494\n",
            "Epoch 18/30\n",
            "625/625 [==============================] - 36s 58ms/step - loss: 0.3294 - accuracy: 0.8525\n",
            "Epoch 19/30\n",
            "625/625 [==============================] - 37s 58ms/step - loss: 0.3197 - accuracy: 0.8594\n",
            "Epoch 20/30\n",
            "625/625 [==============================] - 37s 58ms/step - loss: 0.3118 - accuracy: 0.8617\n",
            "Epoch 21/30\n",
            "625/625 [==============================] - 37s 59ms/step - loss: 0.3041 - accuracy: 0.8661\n",
            "Epoch 22/30\n",
            "625/625 [==============================] - 37s 59ms/step - loss: 0.2919 - accuracy: 0.8709\n",
            "Epoch 23/30\n",
            "625/625 [==============================] - 36s 58ms/step - loss: 0.2876 - accuracy: 0.8740\n",
            "Epoch 24/30\n",
            "625/625 [==============================] - 36s 58ms/step - loss: 0.2810 - accuracy: 0.8765\n",
            "Epoch 25/30\n",
            "625/625 [==============================] - 36s 58ms/step - loss: 0.2689 - accuracy: 0.8830\n",
            "Epoch 26/30\n",
            "625/625 [==============================] - 36s 58ms/step - loss: 0.2649 - accuracy: 0.8842\n",
            "Epoch 27/30\n",
            "625/625 [==============================] - 37s 58ms/step - loss: 0.2543 - accuracy: 0.8898\n",
            "Epoch 28/30\n",
            "625/625 [==============================] - 36s 58ms/step - loss: 0.2472 - accuracy: 0.8936\n",
            "Epoch 29/30\n",
            "625/625 [==============================] - 36s 58ms/step - loss: 0.2391 - accuracy: 0.8985\n",
            "Epoch 30/30\n",
            "625/625 [==============================] - 36s 58ms/step - loss: 0.2324 - accuracy: 0.9018\n"
          ]
        }
      ]
    },
    {
      "cell_type": "code",
      "metadata": {
        "id": "g9DC6dmLF8DC",
        "outputId": "f7341787-3052-4c0f-9067-994776cbbab5",
        "colab": {
          "base_uri": "https://localhost:8080/",
          "height": 541
        }
      },
      "source": [
        "def plot_graphs(history, string):\n",
        "  plt.plot(history.history[string])\n",
        "  plt.xlabel(\"Epochs\")\n",
        "  plt.ylabel(string)\n",
        "  plt.show()\n",
        "\n",
        "plot_graphs(history, 'accuracy')\n",
        "plot_graphs(history, 'loss')"
      ],
      "execution_count": 67,
      "outputs": [
        {
          "output_type": "display_data",
          "data": {
            "image/png": "[encoded data removed]",
            "text/plain": [
              "<Figure size 432x288 with 1 Axes>"
            ]
          },
          "metadata": {
            "needs_background": "light"
          }
        },
        {
          "output_type": "display_data",
          "data": {
            "image/png": "[encoded data removed]",
            "text/plain": [
              "<Figure size 432x288 with 1 Axes>"
            ]
          },
          "metadata": {
            "needs_background": "light"
          }
        }
      ]
    },
    {
      "cell_type": "code",
      "metadata": {
        "id": "7ZEZIUppGhdi"
      },
      "source": [
        "# model.save(\"test.h5\")"
      ],
      "execution_count": 58,
      "outputs": []
    },
    {
      "cell_type": "code",
      "source": [
        ""
      ],
      "metadata": {
        "id": "UmFlgzzvIsxd"
      },
      "execution_count": null,
      "outputs": []
    }
  ]
}